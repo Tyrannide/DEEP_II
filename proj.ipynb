{
 "cells": [
  {
   "cell_type": "code",
   "execution_count": 15,
   "metadata": {},
   "outputs": [
    {
     "data": {
      "text/html": [
       "<div>\n",
       "<style scoped>\n",
       "    .dataframe tbody tr th:only-of-type {\n",
       "        vertical-align: middle;\n",
       "    }\n",
       "\n",
       "    .dataframe tbody tr th {\n",
       "        vertical-align: top;\n",
       "    }\n",
       "\n",
       "    .dataframe thead th {\n",
       "        text-align: right;\n",
       "    }\n",
       "</style>\n",
       "<table border=\"1\" class=\"dataframe\">\n",
       "  <thead>\n",
       "    <tr style=\"text-align: right;\">\n",
       "      <th></th>\n",
       "      <th>image_id</th>\n",
       "      <th>image</th>\n",
       "      <th>width</th>\n",
       "      <th>height</th>\n",
       "      <th>objects</th>\n",
       "    </tr>\n",
       "  </thead>\n",
       "  <tbody>\n",
       "    <tr>\n",
       "      <th>0</th>\n",
       "      <td>1517</td>\n",
       "      <td>{'bytes': None, 'path': 'C:\\Users\\princ\\.cache...</td>\n",
       "      <td>500</td>\n",
       "      <td>500</td>\n",
       "      <td>{'id': [20602, 20603, 20604, 20605, 20606], 'a...</td>\n",
       "    </tr>\n",
       "    <tr>\n",
       "      <th>1</th>\n",
       "      <td>1030</td>\n",
       "      <td>{'bytes': None, 'path': 'C:\\Users\\princ\\.cache...</td>\n",
       "      <td>500</td>\n",
       "      <td>500</td>\n",
       "      <td>{'id': [14034, 14035, 14036, 14037, 14038, 140...</td>\n",
       "    </tr>\n",
       "    <tr>\n",
       "      <th>2</th>\n",
       "      <td>1217</td>\n",
       "      <td>{'bytes': None, 'path': 'C:\\Users\\princ\\.cache...</td>\n",
       "      <td>500</td>\n",
       "      <td>500</td>\n",
       "      <td>{'id': [16678, 16679, 16680, 16681, 16682, 166...</td>\n",
       "    </tr>\n",
       "  </tbody>\n",
       "</table>\n",
       "</div>"
      ],
      "text/plain": [
       "   image_id                                              image  width  height  \\\n",
       "0      1517  {'bytes': None, 'path': 'C:\\Users\\princ\\.cache...    500     500   \n",
       "1      1030  {'bytes': None, 'path': 'C:\\Users\\princ\\.cache...    500     500   \n",
       "2      1217  {'bytes': None, 'path': 'C:\\Users\\princ\\.cache...    500     500   \n",
       "\n",
       "                                             objects  \n",
       "0  {'id': [20602, 20603, 20604, 20605, 20606], 'a...  \n",
       "1  {'id': [14034, 14035, 14036, 14037, 14038, 140...  \n",
       "2  {'id': [16678, 16679, 16680, 16681, 16682, 166...  "
      ]
     },
     "execution_count": 15,
     "metadata": {},
     "output_type": "execute_result"
    }
   ],
   "source": [
    "from datasets import load_dataset\n",
    "import tqdm as notebook_tqdm\n",
    "import torch\n",
    "import torch.nn as nn\n",
    "\n",
    "\n",
    "image_train_dataset = load_dataset(\n",
    "'keremberke/satellite-building-segmentation',\n",
    "split='train', name='mini'\n",
    ").to_pandas()\n",
    "image_train_dataset.head()"
   ]
  },
  {
   "cell_type": "code",
   "execution_count": 16,
   "metadata": {},
   "outputs": [],
   "source": [
    "model = nn.Sequential(\n",
    "\n",
    "    nn.Conv2D()\n",
    "\n",
    ")"
   ]
  },
  {
   "cell_type": "code",
   "execution_count": null,
   "metadata": {},
   "outputs": [],
   "source": []
  },
  {
   "cell_type": "code",
   "execution_count": null,
   "metadata": {},
   "outputs": [],
   "source": []
  }
 ],
 "metadata": {
  "kernelspec": {
   "display_name": ".venv",
   "language": "python",
   "name": "python3"
  },
  "language_info": {
   "codemirror_mode": {
    "name": "ipython",
    "version": 3
   },
   "file_extension": ".py",
   "mimetype": "text/x-python",
   "name": "python",
   "nbconvert_exporter": "python",
   "pygments_lexer": "ipython3",
   "version": "3.10.11"
  }
 },
 "nbformat": 4,
 "nbformat_minor": 2
}
